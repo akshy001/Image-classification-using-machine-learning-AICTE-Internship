{
 "cells": [
  {
   "cell_type": "code",
   "execution_count": null,
   "metadata": {},
   "outputs": [],
   "source": [
    "#!pip install matplotlib\n",
    "import tensorflow as tf # Import Tensor \n"
   ]
  },
  {
   "cell_type": "code",
   "execution_count": null,
   "metadata": {
    "colab": {
     "background_save": true
    },
    "executionInfo": {
     "elapsed": 606,
     "status": "ok",
     "timestamp": 1650635431942,
     "user": {
      "displayName": "Abdulaziz Mohammad",
      "userId": "00984729133826365059"
     },
     "user_tz": -330
    },
    "id": "jmd1PDuTvVlk"
   },
   "outputs": [],
   "source": [
    "import tensorflow as tf\n",
    "import matplotlib.pyplot as plt"
   ]
  },
  {
   "cell_type": "code",
   "execution_count": null,
   "metadata": {
    "colab": {
     "background_save": true
    },
    "executionInfo": {
     "elapsed": 606,
     "status": "ok",
     "timestamp": 1650635431942,
     "user": {
      "displayName": "Abdulaziz Mohammad",
      "userId": "00984729133826365059"
     },
     "user_tz": -330
    },
    "id": "jmd1PDuTvVlk"
   },
   "outputs": [],
   "source": [
    "import tensorflow as tf\n",
    "import matplotlib.pyplot as plt"
   ]
  },
  {
   "cell_type": "code",
   "execution_count": null,
   "metadata": {
    "colab": {
     "background_save": true
    },
    "executionInfo": {
     "elapsed": 606,
     "status": "ok",
     "timestamp": 1650635431942,
     "user": {
      "displayName": "Abdulaziz Mohammad",
      "userId": "00984729133826365059"
     },
     "user_tz": -330
    },
    "id": "jmd1PDuTvVlk"
   },
   "outputs": [],
   "source": [
    "import tensorflow as tf\n",
    "import matplotlib.pyplot as plt"
   ]
  },
  {
   "cell_type": "code",
   "execution_count": null,
   "metadata": {},
   "outputs": [],
   "source": [
    "#!pip install matplotlib\n",
    "import tensorflow as tf\n",
    "import matplotlib.pyplot as plt\n",
    "import matplotlib"
   ]
  },
  {
   "cell_type": "code",
   "execution_count": null,
   "metadata": {},
   "outputs": [],
   "source": [
    "tf.__version__\n",
    "matplotlib.__version__"
   ]
  },
  {
   "cell_type": "code",
   "execution_count": null,
   "metadata": {},
   "outputs": [],
   "source": [
    "import matplotlib\n",
    "matplotlib.__version__"
   ]
  },
  {
   "cell_type": "code",
   "execution_count": null,
   "metadata": {},
   "outputs": [],
   "source": [
    "tf.__version__"
   ]
  },
  {
   "cell_type": "code",
   "execution_count": null,
   "metadata": {
    "colab": {
     "base_uri": "https://localhost:8080/"
    },
    "executionInfo": {
     "elapsed": 349,
     "status": "ok",
     "timestamp": 1650635459135,
     "user": {
      "displayName": "Abdulaziz Mohammad",
      "userId": "00984729133826365059"
     },
     "user_tz": -330
    },
    "id": "pZjAFqimvIB_",
    "outputId": "232855e0-bd30-44f0-d0be-66ec70a4e927"
   },
   "outputs": [],
   "source": [
    "# This one check the GPU\n",
    "\n",
    "physical_devices = tf.config.experimental.list_physical_devices('GPU')\n",
    "#physical_devices\n",
    "print(\"Num GPUs Available: \", len(physical_devices))\n",
    "#tf.config.experimental.set_memory_growth(physical_devices[0], True)"
   ]
  },
  {
   "cell_type": "code",
   "execution_count": null,
   "metadata": {
    "executionInfo": {
     "elapsed": 1046,
     "status": "ok",
     "timestamp": 1650635598498,
     "user": {
      "displayName": "Abdulaziz Mohammad",
      "userId": "00984729133826365059"
     },
     "user_tz": -330
    },
    "id": "zgLDohXGuDVH"
   },
   "outputs": [],
   "source": [
    "# load dataset\n",
    "\n",
    "from keras.datasets import cifar10\n",
    "(x_train, y_train), (x_test, y_test) = cifar10.load_data()"
   ]
  },
  {
   "cell_type": "code",
   "execution_count": null,
   "metadata": {
    "colab": {
     "base_uri": "https://localhost:8080/",
     "height": 180
    },
    "executionInfo": {
     "elapsed": 2565,
     "status": "ok",
     "timestamp": 1650635641722,
     "user": {
      "displayName": "Abdulaziz Mohammad",
      "userId": "00984729133826365059"
     },
     "user_tz": -330
    },
    "id": "egv3tZ3WvmpF",
    "outputId": "08283921-9289-4087-ae70-2743badfe9f9"
   },
   "outputs": [],
   "source": [
    "# some images of dataset with labels.\n",
    "\n",
    "cifar10_classes = ['airplane', 'automobile', 'bird', 'cat', 'deer', 'dog', 'frog', 'horse', 'ship', 'truck']\n",
    "print('Example training images and their labels: ' + str([x[0] for x in y_train[0:10]])) \n",
    "print('Corresponding classes for the labels: ' + str([cifar10_classes[x[0]] for x in y_train[0:10]]))\n",
    "\n",
    "fig, axarr = plt.subplots(1, 10)\n",
    "fig.set_size_inches(20, 6)\n",
    "\n",
    "for i in range(10):\n",
    "    image = x_train[i]\n",
    "    axarr[i].imshow(image)\n",
    "plt.show()"
   ]
  },
  {
   "cell_type": "code",
   "execution_count": null,
   "metadata": {
    "colab": {
     "base_uri": "https://localhost:8080/"
    },
    "executionInfo": {
     "elapsed": 337,
     "status": "ok",
     "timestamp": 1650635712948,
     "user": {
      "displayName": "Abdulaziz Mohammad",
      "userId": "00984729133826365059"
     },
     "user_tz": -330
    },
    "id": "6tFczNU9wZGM",
    "outputId": "648e3767-3a51-4919-8a9d-567aabe94456"
   },
   "outputs": [],
   "source": [
    "x_train.shape, y_train.shape, x_test.shape, y_test.shape"
   ]
  },
  {
   "cell_type": "code",
   "execution_count": null,
   "metadata": {
    "executionInfo": {
     "elapsed": 929,
     "status": "ok",
     "timestamp": 1650635868632,
     "user": {
      "displayName": "Abdulaziz Mohammad",
      "userId": "00984729133826365059"
     },
     "user_tz": -330
    },
    "id": "x82EXLcHwmyP"
   },
   "outputs": [],
   "source": [
    "# Preparing dataset \n",
    "\n",
    "# Normalize the input data\n",
    "X_train = x_train / 255.0\n",
    "X_test = x_test / 255.0\n",
    "# Every Neuron is expected to have value from 0 to 1 to converge quickly(Gradient Descent)"
   ]
  },
  {
   "cell_type": "code",
   "execution_count": null,
   "metadata": {
    "executionInfo": {
     "elapsed": 330,
     "status": "ok",
     "timestamp": 1650636262645,
     "user": {
      "displayName": "Abdulaziz Mohammad",
      "userId": "00984729133826365059"
     },
     "user_tz": -330
    },
    "id": "uZKiN6kQyAzy"
   },
   "outputs": [],
   "source": [
    "from tensorflow import keras\n",
    "from keras.layers import Dense\n",
    "from keras.layers import Flatten"
   ]
  },
  {
   "cell_type": "code",
   "execution_count": null,
   "metadata": {},
   "outputs": [],
   "source": [
    "# MLP Network\n",
    "\n",
    "ann = keras.Sequential()\n",
    "ann.add(Flatten(input_shape=(32,32,3))) # input layer\n",
    "ann.add(Dense(2048,activation='relu')) # hidden layer 2048 \n",
    "ann.add(Dense(10,activation='softmax')) # output layer 10"
   ]
  },
  {
   "cell_type": "code",
   "execution_count": null,
   "metadata": {},
   "outputs": [],
   "source": [
    "ann.summary()"
   ]
  },
  {
   "cell_type": "code",
   "execution_count": null,
   "metadata": {
    "executionInfo": {
     "elapsed": 598,
     "status": "ok",
     "timestamp": 1650636287241,
     "user": {
      "displayName": "Abdulaziz Mohammad",
      "userId": "00984729133826365059"
     },
     "user_tz": -330
    },
    "id": "SPJg0WzYySF5"
   },
   "outputs": [],
   "source": [
    "ann.compile(loss='sparse_categorical_crossentropy',optimizer='adam',metrics=['accuracy'])"
   ]
  },
  {
   "cell_type": "code",
   "execution_count": null,
   "metadata": {
    "colab": {
     "base_uri": "https://localhost:8080/"
    },
    "executionInfo": {
     "elapsed": 128291,
     "status": "ok",
     "timestamp": 1650636445904,
     "user": {
      "displayName": "Abdulaziz Mohammad",
      "userId": "00984729133826365059"
     },
     "user_tz": -330
    },
    "id": "VtqrelqmyTb3",
    "outputId": "0902ab88-30dc-4ad4-9a9b-19ec6efeafe8"
   },
   "outputs": [],
   "source": [
    "history = ann.fit(X_train ,y_train,epochs=100,validation_data=(X_test,y_test))"
   ]
  },
  {
   "cell_type": "code",
   "execution_count": null,
   "metadata": {
    "colab": {
     "base_uri": "https://localhost:8080/",
     "height": 282
    },
    "executionInfo": {
     "elapsed": 816,
     "status": "ok",
     "timestamp": 1650636817787,
     "user": {
      "displayName": "Abdulaziz Mohammad",
      "userId": "00984729133826365059"
     },
     "user_tz": -330
    },
    "id": "zrCCccRs1Evc",
    "outputId": "9418d173-89c1-4c36-f6f9-92b17f3a87b0"
   },
   "outputs": [],
   "source": [
    "# Training history\n",
    "\n",
    "plt.plot(history.history['loss'])\n",
    "plt.plot(history.history['val_loss'])"
   ]
  },
  {
   "cell_type": "code",
   "execution_count": null,
   "metadata": {
    "id": "dWU4yBGO1X8A"
   },
   "outputs": [],
   "source": [
    "# CNN model\n",
    "\n",
    "from tensorflow import keras\n",
    "from keras.layers import Conv2D, Dense, Flatten, MaxPooling2D, Dropout"
   ]
  },
  {
   "cell_type": "code",
   "execution_count": null,
   "metadata": {
    "executionInfo": {
     "elapsed": 570,
     "status": "ok",
     "timestamp": 1650637756344,
     "user": {
      "displayName": "Abdulaziz Mohammad",
      "userId": "00984729133826365059"
     },
     "user_tz": -330
    },
    "id": "E8vLr0nn1rM7"
   },
   "outputs": [],
   "source": [
    "cnn = keras.Sequential()\n",
    "cnn.add(Conv2D(32, kernel_size= (3,3), strides=(1,1), padding='same', activation='relu', input_shape = (32,32,3)))\n",
    "cnn.add(MaxPooling2D((2,2)))\n",
    "cnn.add(Conv2D(64, kernel_size= (3,3), strides=(1,1), padding='same', activation='relu'))\n",
    "cnn.add(MaxPooling2D((2,2)))\n",
    "cnn.add(Conv2D(128, kernel_size= (3,3), strides=(1,1), padding='same', activation='relu'))\n",
    "cnn.add(MaxPooling2D((2,2)))\n",
    "cnn.add(Conv2D(256, kernel_size= (3,3), strides=(1,1), padding='same', activation='relu'))\n",
    "cnn.add(MaxPooling2D((2,2)))\n",
    "cnn.add(Flatten())\n",
    "cnn.add(Dense(64,activation='relu'))\n",
    "cnn.add(Dropout(0.3))\n",
    "cnn.add(Dense(10,activation='softmax'))"
   ]
  },
  {
   "cell_type": "code",
   "execution_count": null,
   "metadata": {
    "colab": {
     "base_uri": "https://localhost:8080/"
    },
    "executionInfo": {
     "elapsed": 595,
     "status": "ok",
     "timestamp": 1650637762047,
     "user": {
      "displayName": "Abdulaziz Mohammad",
      "userId": "00984729133826365059"
     },
     "user_tz": -330
    },
    "id": "hJ6FMNZN1-se",
    "outputId": "231de159-9469-42c5-82e7-172f74b4d91d"
   },
   "outputs": [],
   "source": [
    "cnn.summary()"
   ]
  },
  {
   "cell_type": "code",
   "execution_count": null,
   "metadata": {
    "colab": {
     "base_uri": "https://localhost:8080/"
    },
    "executionInfo": {
     "elapsed": 203620,
     "status": "ok",
     "timestamp": 1650637411708,
     "user": {
      "displayName": "Abdulaziz Mohammad",
      "userId": "00984729133826365059"
     },
     "user_tz": -330
    },
    "id": "9J8IZOVD2E7-",
    "outputId": "f197ccd2-9f40-4ac9-c2dc-7b5eb850405c"
   },
   "outputs": [],
   "source": [
    "cnn.compile(loss='sparse_categorical_crossentropy',optimizer='adam',metrics=['accuracy'])\n",
    "history = cnn.fit(X_train,y_train,epochs=100,validation_data=(X_test,y_test))"
   ]
  },
  {
   "cell_type": "code",
   "execution_count": null,
   "metadata": {
    "executionInfo": {
     "elapsed": 594,
     "status": "ok",
     "timestamp": 1650637563780,
     "user": {
      "displayName": "Abdulaziz Mohammad",
      "userId": "00984729133826365059"
     },
     "user_tz": -330
    },
    "id": "_ndaiS363B5K"
   },
   "outputs": [],
   "source": [
    "def plotLosses(history):  \n",
    "    plt.plot(history.history['loss'])\n",
    "    plt.plot(history.history['val_loss'])\n",
    "    plt.title('model loss')\n",
    "    plt.ylabel('loss')\n",
    "    plt.xlabel('epoch')\n",
    "    plt.legend(['train', 'validation'], loc='upper right')\n",
    "    plt.show()"
   ]
  },
  {
   "cell_type": "code",
   "execution_count": null,
   "metadata": {
    "colab": {
     "base_uri": "https://localhost:8080/",
     "height": 295
    },
    "executionInfo": {
     "elapsed": 581,
     "status": "ok",
     "timestamp": 1650637570356,
     "user": {
      "displayName": "Abdulaziz Mohammad",
      "userId": "00984729133826365059"
     },
     "user_tz": -330
    },
    "id": "1DRllhYS3IwI",
    "outputId": "91315349-093e-41e5-d94b-42dcbb284c48"
   },
   "outputs": [],
   "source": [
    "plotLosses(history)"
   ]
  },
  {
   "cell_type": "code",
   "execution_count": null,
   "metadata": {
    "executionInfo": {
     "elapsed": 548,
     "status": "ok",
     "timestamp": 1650637611637,
     "user": {
      "displayName": "Abdulaziz Mohammad",
      "userId": "00984729133826365059"
     },
     "user_tz": -330
    },
    "id": "IWCQgFgr3fdI"
   },
   "outputs": [],
   "source": [
    "def plotAccuracy(history):  \n",
    "    plt.plot(history.history['accuracy'])\n",
    "    plt.plot(history.history['val_accuracy'])\n",
    "    plt.title('model Accuracy')\n",
    "    plt.ylabel('Accuracy')\n",
    "    plt.xlabel('epoch')\n",
    "    plt.legend(['train', 'validation'], loc='upper left')\n",
    "    plt.show()"
   ]
  },
  {
   "cell_type": "code",
   "execution_count": null,
   "metadata": {
    "colab": {
     "base_uri": "https://localhost:8080/",
     "height": 295
    },
    "executionInfo": {
     "elapsed": 679,
     "status": "ok",
     "timestamp": 1650637617604,
     "user": {
      "displayName": "Abdulaziz Mohammad",
      "userId": "00984729133826365059"
     },
     "user_tz": -330
    },
    "id": "M9tRUozK3zwi",
    "outputId": "cc84dc49-b686-4262-f3b6-5910f267ded4"
   },
   "outputs": [],
   "source": [
    "plotAccuracy(history)"
   ]
  },
  {
   "cell_type": "code",
   "execution_count": null,
   "metadata": {},
   "outputs": [],
   "source": [
    "from keras.models import load_model\n",
    "cnn.save('model100.h5')"
   ]
  },
  {
   "cell_type": "code",
   "execution_count": null,
   "metadata": {},
   "outputs": [],
   "source": [
    "# Load the model\n",
    "model = tf.keras.models.load_model('model100.h5')"
   ]
  },
  {
   "cell_type": "code",
   "execution_count": null,
   "metadata": {},
   "outputs": [],
   "source": [
    "import numpy as np\n",
    "# Add a batch dimension to the input\n",
    "x_test_sample = np.expand_dims(x_test[20], axis=0)\n",
    "\n",
    "# Now pass it to the model for prediction\n",
    "model.predict(x_test_sample)"
   ]
  },
  {
   "cell_type": "code",
   "execution_count": null,
   "metadata": {},
   "outputs": [],
   "source": [
    "plt.imshow(x_test[20])"
   ]
  },
  {
   "cell_type": "code",
   "execution_count": null,
   "metadata": {},
   "outputs": [],
   "source": [
    "# Example: if you have class names like this\n",
    "class_names = ['airplane', 'automobile', 'bird', 'cat', 'deer', 'dog', 'frog', 'horse', 'ship', 'truck']  # replace with your actual class names\n",
    "\n",
    "# Get the prediction probabilities\n",
    "predictions = model.predict(x_test_sample)\n",
    "\n",
    "# Get the index of the class with the highest probability\n",
    "predicted_class_index = np.argmax(predictions)\n",
    "\n",
    "# Get the corresponding class name\n",
    "predicted_class_name = class_names[predicted_class_index]\n",
    "\n",
    "print(f\"The predicted class is: {predicted_class_name}\")"
   ]
  }
 ],
 "metadata": {
  "accelerator": "GPU",
  "colab": {
   "authorship_tag": "ABX9TyMNUt8YE5GhQb6DEU3GYJbG",
   "name": "ANN&CNN_CIFAR-10.ipynb",
   "version": ""
  },
  "kernelspec": {
   "display_name": "Python 3 (ipykernel)",
   "language": "python",
   "name": "python3"
  },
  "language_info": {
   "codemirror_mode": {
    "name": "ipython",
    "version": 3
   },
   "file_extension": ".py",
   "mimetype": "text/x-python",
   "name": "python",
   "nbconvert_exporter": "python",
   "pygments_lexer": "ipython3",
   "version": "3.9.20"
  }
 },
 "nbformat": 4,
 "nbformat_minor": 4
}
